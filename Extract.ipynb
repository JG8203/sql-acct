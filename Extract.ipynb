{
 "cells": [
  {
   "cell_type": "markdown",
   "id": "9ec85439cfbdd7a5",
   "metadata": {},
   "source": [
    "# FDNACCT: Individual Project - Journal Entries, Ledger Postings, and Trial Balance (Service Business)\n",
    "\n",
    "### Academic Year 2024-2025, Term 1\n",
    "\n",
    "**Individual Output**  \n",
    "**10% of Final Grade**  \n",
    "**DEADLINE:** October 18, 2024, Friday, 11:59 PM, Animo Space\n",
    "\n",
    "---\n",
    "\n",
    "Faith D. Nakpil recently established a business in September 2024, focusing on deep cleaning services under the name **FDN Cleaning Service**. Below are the Chart of Accounts and financial transactions for the first month of operation.\n",
    "\n",
    "---\n",
    "\n",
    "## FDN Cleaning Service  \n",
    "### Chart of Accounts\n",
    "\n",
    "| **Account #** | **Account Title**             |\n",
    "| ------------- | ----------------------------- |\n",
    "| **Assets**    |                               |\n",
    "| 101           | Cash                          |\n",
    "| 102           | Accounts Receivable           |\n",
    "| 103           | Cleaning Supplies             |\n",
    "| 104           | Prepaid Insurance Expense     |\n",
    "| 111           | Cleaning Equipment            |\n",
    "| 112           | Transportation Vehicle        |\n",
    "| **Liabilities**|                              |\n",
    "| 201           | Accounts Payable              |\n",
    "| 202           | Notes Payable                 |\n",
    "| 203           | Unearned Service Revenue      |\n",
    "| **Owner’s Equity** |                          |\n",
    "| 301           | Faith D. Nakpil, Capital      |\n",
    "| 302           | Faith D. Nakpil, Drawing      |\n",
    "| **Revenues**  |                               |\n",
    "| 401           | Cleaning Revenues             |\n",
    "| **Expenses**  |                               |\n",
    "| 501           | Salaries Expense              |\n",
    "| 502           | Utilities Expense             |\n",
    "| 503           | Rent Expense                  |\n",
    "| 504           | Advertising Expense           |\n",
    "| 505           | Miscellaneous Expense         |\n",
    "\n",
    "---\n",
    "\n",
    "## Financial Transactions\n",
    "\n",
    "### September 2024\n",
    "\n",
    "| **Date** | **Transactions**                                                                                                                                     |\n",
    "| -------- | ---------------------------------------------------------------------------------------------------------------------------------------------------- |\n",
    "| Sept 1   | Deposited ₱52,000 cash into the bank account of FDN Cleaning Service and invested an old deep cleaning equipment originally costing ₱35,000, now worth ₱10,000. |\n",
    "| Sept 3   | Purchased cleaning supplies on account, ₱21,400, from CleanFast Trading. Received Sales Invoice #3567.                                               |\n",
    "| Sept 5   | Purchased cleaning equipment on account, ₱15,600, from A1 Merchandise. Received Sales Invoice #2156.                                                |\n",
    "| Sept 6   | Purchased an old motorcycle for the business, costing ₱47,000. Paid ₱10,000 cash with check #001, financed the remainder by issuing a note payable.  |\n",
    "| Sept 7   | Paid rent for office space for the month, ₱7,300 with check #002.                                                                                    |\n",
    "| Sept 9   | Received ₱31,800 cash for cleaning services rendered. Issued OR#0001 and Service Invoice #10001.                                                     |\n",
    "| Sept 10  | Paid Facebook ads for advertisement, ₱1,700 with check #003.                                                                                        |\n",
    "| Sept 11  | Paid insurance for the next six months, ₱4,800 with check #004.                                                                                     |\n",
    "| Sept 12  | Received ₱6,200 as advance payment for services to be performed next month. Issued OR#0002.                                                         |\n",
    "| Sept 13  | Paid ₱9,000 to CleanFast Trading as partial payment, with check #005.                                                                               |\n",
    "| Sept 14  | Paid miscellaneous expenses, ₱2,200 with check #006.                                                                                                |\n",
    "| Sept 15  | Billed Aim High Laboratories ₱18,600 for cleaning services rendered. Issued Service Invoice #10002.                                                 |\n",
    "| Sept 16  | Paid salaries, ₱8,400 with check #007.                                                                                                              |\n",
    "| Sept 20  | Received ₱9,800 from Aim High Laboratories as partial payment for the September 15 bill. Issued OR#0003.                                            |\n",
    "| Sept 22  | Paid partial amount of note payable issued on September 6, ₱2,400 with check #008.                                                                  |\n",
    "| Sept 25  | Paid PLDT for telephone and internet expenses, ₱900 with check #009.                                                                                |\n",
    "| Sept 28  | Paid employee salary, ₱7,900 with check #010.                                                                                                       |\n",
    "| Sept 29  | Billed Precision Clinic ₱22,500 for cleaning services rendered. Issued Service Invoice #10003.                                                      |\n",
    "| Sept 30  | Faith withdrew ₱10,000 from the business with check #011.                                                                                           |\n",
    "\n",
    "---\n",
    "\n",
    "## REMINDER:\n",
    "\n",
    "- **File Name:** FDNACCT `<space>` Section_Individual Project_Surname, First Name  \n",
    "  Example: FDNACCT C31A_Individual Project_Cruz, Juan\n",
    "- Submit as a Google Spreadsheet link.\n",
    "\n",
    "---\n",
    "\n",
    "## INSTRUCTIONS:\n",
    "\n",
    "1. **General Journal:**\n",
    "   - Before journalizing, enter columnar headings: Date, Description, P/R, Debit, Credit.\n",
    "   - Journalize the transactions with descriptions and source documents. Use compound entries where necessary.\n",
    "   - In the Posting Reference (P/R) column, encode the account numbers.\n",
    "   - Leave a space after each journal entry.\n",
    "   - **Rows 1-35:** Page 1, **Rows 36-70:** Page 2, **Rows 71-105:** Page 3.\n",
    "   - **Google Spreadsheet:** Use **Sheet1**, rename the tab as **GJ**.\n",
    "\n",
    "2. **General Ledger:**\n",
    "   - Open accounts by entering account names and numbers.\n",
    "   - Follow the order of accounts in the Chart of Accounts.\n",
    "   - Enter columnar headings: Date, Description, P/R or F, Debit, Credit, Balance.\n",
    "   - Post accounts to the ledger, with cross-referencing in the P/R column.\n",
    "   - Leave a space after every account.\n",
    "   - **Google Spreadsheet:** Use **Sheet2**, rename the tab as **GL**.\n",
    "\n",
    "3. **Trial Balance:**\n",
    "   - Prepare the Trial Balance for the month ending **September 30, 2024**.\n",
    "   - **Google Spreadsheet:** Use **Sheet3**, rename the tab as **TB**.\n",
    "\n",
    "---\n",
    "\n",
    "## RUBRIC FOR ASSESSMENT:\n",
    "\n",
    "| **Criteria**                   | **Exemplary (93-100)** | **Satisfactory (80-92)** | **Developing (70-79)** | **Beginning (Below 70)** |\n",
    "| ------------------------------ | ---------------------- | ------------------------ | ---------------------- | ------------------------ |\n",
    "| **Content - Correctness and Completeness (80%)** | The student answered the project correctly and completely. | The student answered the majority of the project correctly and completely. | The student answered some of the project correctly and completely. | The student failed to answer the project correctly and completely. |\n",
    "| **Neatness and Orderliness (10%)** | The student accomplished the requirements in good form.* | The student accomplished most of the requirements in good form. | The student accomplished some of the requirements in good form. | The student accomplished minimal portions in good form. |\n",
    "| **Timeliness (10%)** | The student submitted output on or before the deadline. | The student submitted output a day after the deadline. | The student submitted output three (3) days after the deadline. | The student submitted output a week or more after the deadline. |\n",
    "\n",
    "---\n",
    "\n",
    "\\* **In good form:** preserves neatness of work, places headings properly, uses money columns correctly, and follows ruling procedures.\n"
   ]
  },
  {
   "cell_type": "code",
   "execution_count": null,
   "id": "b777c72412ed89d5",
   "metadata": {
    "ExecuteTime": {
     "end_time": "2024-10-05T20:08:48.779613Z",
     "start_time": "2024-10-05T20:08:48.772526Z"
    }
   },
   "outputs": [],
   "source": []
  },
  {
   "cell_type": "code",
   "execution_count": 8,
   "id": "80956bc02ade3747",
   "metadata": {
    "ExecuteTime": {
     "end_time": "2024-10-05T20:08:48.872749Z",
     "start_time": "2024-10-05T20:08:48.862188Z"
    }
   },
   "outputs": [],
   "source": [
    "from peewee import *\n",
    "from datetime import datetime\n",
    "db = SqliteDatabase('accounting.db')"
   ]
  },
  {
   "cell_type": "code",
   "execution_count": 9,
   "id": "d8c3c4f58e1e6198",
   "metadata": {
    "ExecuteTime": {
     "end_time": "2024-10-05T20:08:49.008057Z",
     "start_time": "2024-10-05T20:08:48.977792Z"
    }
   },
   "outputs": [],
   "source": [
    "class ChartOfAccounts(Model):\n",
    "    id = IntegerField(unique=True, primary_key=True)\n",
    "    account_type = CharField()\n",
    "    account_title = CharField()\n",
    "\n",
    "    class Meta:\n",
    "        database = db\n",
    "\n",
    "class GeneralJournal(Model):\n",
    "    id = AutoField()\n",
    "    date = DateTimeField()\n",
    "    description = CharField()\n",
    "\n",
    "    class Meta:\n",
    "        database = db\n",
    "\n",
    "class GeneralJournalEntry(Model):\n",
    "    id = AutoField()\n",
    "    journal = ForeignKeyField(GeneralJournal, backref='entries')\n",
    "    account = ForeignKeyField(ChartOfAccounts, backref='journal_entries')\n",
    "    debit = DecimalField(max_digits=10, decimal_places=2, null=True)\n",
    "    credit = DecimalField(max_digits=10, decimal_places=2, null=True)\n",
    "\n",
    "    class Meta:\n",
    "        database = db\n",
    "\n",
    "class Ledger(Model):\n",
    "    id = AutoField()  # Added AutoField for primary key\n",
    "    date = DateTimeField()\n",
    "    description = CharField()\n",
    "    account = ForeignKeyField(ChartOfAccounts, backref='ledger_entries')\n",
    "    pr = ForeignKeyField(GeneralJournalEntry, backref=\"ledgers\")\n",
    "    debit = DecimalField(max_digits=10, decimal_places=2, null=True)\n",
    "    credit = DecimalField(max_digits=10, decimal_places=2, null=True)\n",
    "    balance = DecimalField(max_digits=10, decimal_places=2, null=True)\n",
    "\n",
    "    class Meta:\n",
    "        database = db"
   ]
  },
  {
   "cell_type": "code",
   "execution_count": 10,
   "id": "deff087dc9cb0f57",
   "metadata": {
    "ExecuteTime": {
     "end_time": "2024-10-05T20:08:49.105862Z",
     "start_time": "2024-10-05T20:08:49.060476Z"
    }
   },
   "outputs": [
    {
     "name": "stdout",
     "output_type": "stream",
     "text": [
      "Connected to database\n"
     ]
    }
   ],
   "source": [
    "if not db.is_connection_usable():\n",
    "    db.connect()\n",
    "    print(\"Connected to database\")\n",
    "\n",
    "db.create_tables([ChartOfAccounts, GeneralJournal, GeneralJournalEntry, Ledger])"
   ]
  },
  {
   "cell_type": "code",
   "execution_count": 11,
   "id": "176372ee49da5f0b",
   "metadata": {
    "ExecuteTime": {
     "end_time": "2024-10-05T20:08:49.175879Z",
     "start_time": "2024-10-05T20:08:49.151054Z"
    }
   },
   "outputs": [
    {
     "data": {
      "text/plain": [
       "505"
      ]
     },
     "execution_count": 11,
     "metadata": {},
     "output_type": "execute_result"
    }
   ],
   "source": [
    "accounts = [\n",
    "    (101, 'Assets', 'Cash'),\n",
    "    (102, 'Assets', 'Accounts Receivable'),\n",
    "    (103, 'Assets', 'Cleaning Supplies'),\n",
    "    (104, 'Assets', 'Prepaid Insurance Expense'),\n",
    "    (111, 'Assets', 'Cleaning Equipment'),\n",
    "    (112, 'Assets', 'Transportation Vehicle'),\n",
    "    (201, 'Liabilities', 'Accounts Payable'),\n",
    "    (202, 'Liabilities', 'Notes Payable'),\n",
    "    (203, 'Liabilities', 'Unearned Service Revenue'),\n",
    "    (301, 'Owner’s Equity', 'Faith D. Nakpil, Capital'),\n",
    "    (302, 'Owner’s Equity (Drawing)', 'Faith D. Nakpil, Drawing'),\n",
    "    (401, 'Revenues', 'Cleaning Revenues'),\n",
    "    (501, 'Expenses', 'Salaries Expense'),\n",
    "    (502, 'Expenses', 'Utilities Expense'),\n",
    "    (503, 'Expenses', 'Rent Expense'),\n",
    "    (504, 'Expenses', 'Advertising Expense'),\n",
    "    (505, 'Expenses', 'Miscellaneous Expense')\n",
    "]\n",
    "\n",
    "ChartOfAccounts.insert_many(accounts, fields=[ChartOfAccounts.id, ChartOfAccounts.account_type, ChartOfAccounts.account_title]).execute()"
   ]
  },
  {
   "cell_type": "markdown",
   "id": "ad7051030d00ab11",
   "metadata": {},
   "source": [
    "### Printing of Accounts\n",
    "The code below prints the account type as well as its name and ID. These would be used for journalizing and posting later. Acts as a sanity check of sorts"
   ]
  },
  {
   "cell_type": "code",
   "execution_count": 12,
   "id": "45d4b22961110379",
   "metadata": {
    "ExecuteTime": {
     "end_time": "2024-10-05T20:08:49.285175Z",
     "start_time": "2024-10-05T20:08:49.267725Z"
    }
   },
   "outputs": [
    {
     "name": "stdout",
     "output_type": "stream",
     "text": [
      "ID: 101 Type: Assets Account Name: Cash\n",
      "ID: 102 Type: Assets Account Name: Accounts Receivable\n",
      "ID: 103 Type: Assets Account Name: Cleaning Supplies\n",
      "ID: 104 Type: Assets Account Name: Prepaid Insurance Expense\n",
      "ID: 111 Type: Assets Account Name: Cleaning Equipment\n",
      "ID: 112 Type: Assets Account Name: Transportation Vehicle\n",
      "ID: 201 Type: Liabilities Account Name: Accounts Payable\n",
      "ID: 202 Type: Liabilities Account Name: Notes Payable\n",
      "ID: 203 Type: Liabilities Account Name: Unearned Service Revenue\n",
      "ID: 301 Type: Owner’s Equity Account Name: Faith D. Nakpil, Capital\n",
      "ID: 302 Type: Owner’s Equity (Drawing) Account Name: Faith D. Nakpil, Drawing\n",
      "ID: 401 Type: Revenues Account Name: Cleaning Revenues\n",
      "ID: 501 Type: Expenses Account Name: Salaries Expense\n",
      "ID: 502 Type: Expenses Account Name: Utilities Expense\n",
      "ID: 503 Type: Expenses Account Name: Rent Expense\n",
      "ID: 504 Type: Expenses Account Name: Advertising Expense\n",
      "ID: 505 Type: Expenses Account Name: Miscellaneous Expense\n"
     ]
    }
   ],
   "source": [
    "query = ChartOfAccounts.select().order_by(ChartOfAccounts.id)\n",
    "for row in query:\n",
    "    print(f\"ID: {row.id} Type: {row.account_type} Account Name: {row.account_title}\")"
   ]
  },
  {
   "cell_type": "markdown",
   "id": "7e28cba01480084f",
   "metadata": {},
   "source": [
    "The code below defines functions for handling accounting entries."
   ]
  },
  {
   "cell_type": "code",
   "execution_count": 13,
   "id": "3f9e6fb0883dfe23",
   "metadata": {
    "ExecuteTime": {
     "end_time": "2024-10-05T20:08:49.475736Z",
     "start_time": "2024-10-05T20:08:49.441370Z"
    }
   },
   "outputs": [],
   "source": [
    "def get_normal_balance(account_type):\n",
    "    \"\"\"\n",
    "    Determine the normal balance based on the account type.\n",
    "    \"\"\"\n",
    "    if account_type in ['Assets', 'Expenses', 'Owner’s Equity (Drawing)']:\n",
    "        return 'debit'\n",
    "    elif account_type in ['Liabilities', 'Owner’s Equity', 'Revenues']:\n",
    "        return 'credit'\n",
    "    return None\n",
    "\n",
    "def get_account_by_title(title):\n",
    "    return ChartOfAccounts.get(ChartOfAccounts.account_title == title)\n",
    "\n",
    "def get_journal_by_id(journal_id):\n",
    "    return GeneralJournal.get(GeneralJournal.id == journal_id)\n",
    "\n",
    "def create_ledger_entry(account, date, description, pr, debit=None, credit=None, balance=None):\n",
    "    \"\"\"\n",
    "    Create a ledger entry for an account.\n",
    "    \"\"\"\n",
    "    ledger = Ledger.create(\n",
    "        account=account,\n",
    "        date=date,\n",
    "        description=description,\n",
    "        pr=pr,\n",
    "        debit=debit,\n",
    "        credit=credit,\n",
    "        balance=balance\n",
    "    )\n",
    "    return ledger\n",
    "\n",
    "def get_previous_balance(account):\n",
    "    \"\"\"\n",
    "    Retrieve the latest balance for an account from the ledger.\n",
    "    \"\"\"\n",
    "    latest_entry = Ledger.select().where(Ledger.account == account).order_by(Ledger.id.desc()).first()\n",
    "    return latest_entry.balance if latest_entry else 0\n",
    "\n",
    "def compute_new_balance(prev_balance, amount, entry_side, normal_balance):\n",
    "    \"\"\"\n",
    "    Compute the new balance for an account based on the entry side and normal balance.\n",
    "    \"\"\"\n",
    "    if entry_side == normal_balance:\n",
    "        return prev_balance + amount\n",
    "    else:\n",
    "        return prev_balance - amount\n",
    "\n",
    "def SimpleEntry(general_journal_id, debit_account_title, credit_account_title, amount):\n",
    "    general_journal = get_journal_by_id(general_journal_id)\n",
    "    debit_account = get_account_by_title(debit_account_title)\n",
    "    credit_account = get_account_by_title(credit_account_title)\n",
    "\n",
    "    # Get the normal balance types\n",
    "    debit_normal_balance = get_normal_balance(debit_account.account_type)\n",
    "    credit_normal_balance = get_normal_balance(credit_account.account_type)\n",
    "\n",
    "    # Get previous balances\n",
    "    prev_debit_balance = get_previous_balance(debit_account)\n",
    "    prev_credit_balance = get_previous_balance(credit_account)\n",
    "\n",
    "    # Compute new balances using the compute_new_balance function\n",
    "    new_debit_balance = compute_new_balance(prev_debit_balance, amount, 'debit', debit_normal_balance)\n",
    "    new_credit_balance = compute_new_balance(prev_credit_balance, amount, 'credit', credit_normal_balance)\n",
    "\n",
    "    # Create debit journal entry\n",
    "    debit_entry = GeneralJournalEntry.create(\n",
    "        journal=general_journal,\n",
    "        account=debit_account,\n",
    "        debit=amount,\n",
    "        credit=None\n",
    "    )\n",
    "\n",
    "    # Create credit journal entry\n",
    "    credit_entry = GeneralJournalEntry.create(\n",
    "        journal=general_journal,\n",
    "        account=credit_account,\n",
    "        debit=None,\n",
    "        credit=amount\n",
    "    )\n",
    "\n",
    "    # Create corresponding ledger entries with updated balances\n",
    "    debit_ledger = create_ledger_entry(\n",
    "        account=debit_account,\n",
    "        date=general_journal.date,\n",
    "        description=general_journal.description,\n",
    "        pr=debit_entry,\n",
    "        debit=amount,\n",
    "        balance=new_debit_balance\n",
    "    )\n",
    "\n",
    "    credit_ledger = create_ledger_entry(\n",
    "        account=credit_account,\n",
    "        date=general_journal.date,\n",
    "        description=general_journal.description,\n",
    "        pr=credit_entry,\n",
    "        credit=amount,\n",
    "        balance=new_credit_balance\n",
    "    )\n",
    "\n",
    "    return debit_ledger, credit_ledger\n"
   ]
  },
  {
   "cell_type": "code",
   "execution_count": 14,
   "id": "4945b221f3d9e62d",
   "metadata": {
    "ExecuteTime": {
     "end_time": "2024-10-05T20:08:49.634899Z",
     "start_time": "2024-10-05T20:08:49.543706Z"
    }
   },
   "outputs": [],
   "source": [
    "journal_entries_data = [\n",
    "    {\n",
    "        'date': datetime(2023, 9, 1),\n",
    "        'description': 'Deposited cash and invested old deep cleaning equipment into the business'\n",
    "    },\n",
    "    {\n",
    "        'date': datetime(2023, 9, 3),\n",
    "        'description': 'Purchased cleaning supplies on account from CleanFast Trading'\n",
    "    },\n",
    "    {\n",
    "        'date': datetime(2023, 9, 5),\n",
    "        'description': 'Purchased cleaning equipment on account from A1 Merchandise'\n",
    "    },\n",
    "    {\n",
    "        'date': datetime(2023, 9, 6),\n",
    "        'description': 'Purchased motorcycle for business use, partly financed by issuing a note payable'\n",
    "    },\n",
    "    {\n",
    "        'date': datetime(2023, 9, 7),\n",
    "        'description': 'Paid rent for office space for the month'\n",
    "    },\n",
    "    {\n",
    "        'date': datetime(2023, 9, 9),\n",
    "        'description': 'Received cash for cleaning services rendered'\n",
    "    },\n",
    "    {\n",
    "        'date': datetime(2023, 9, 10),\n",
    "        'description': 'Paid Facebook ads for advertisement'\n",
    "    },\n",
    "    {\n",
    "        'date': datetime(2023, 9, 11),\n",
    "        'description': 'Paid insurance for the next six months'\n",
    "    },\n",
    "    {\n",
    "        'date': datetime(2023, 9, 12),\n",
    "        'description': 'Received advance payment for services to be performed next month'\n",
    "    },\n",
    "    {\n",
    "        'date': datetime(2023, 9, 13),\n",
    "        'description': 'Paid partial amount to CleanFast Trading on account'\n",
    "    },\n",
    "    {\n",
    "        'date': datetime(2023, 9, 14),\n",
    "        'description': 'Paid miscellaneous expenses'\n",
    "    },\n",
    "    {\n",
    "        'date': datetime(2023, 9, 15),\n",
    "        'description': 'Billed Aim High Laboratories for cleaning services rendered'\n",
    "    },\n",
    "    {\n",
    "        'date': datetime(2023, 9, 16),\n",
    "        'description': 'Paid employee salaries'\n",
    "    },\n",
    "    {\n",
    "        'date': datetime(2023, 9, 20),\n",
    "        'description': 'Received partial payment from Aim High Laboratories on account'\n",
    "    },\n",
    "    {\n",
    "        'date': datetime(2023, 9, 22),\n",
    "        'description': 'Paid partial payment on the note issued for motorcycle purchase'\n",
    "    },\n",
    "    {\n",
    "        'date': datetime(2023, 9, 25),\n",
    "        'description': 'Paid PLDT for telephone and internet expense'\n",
    "    },\n",
    "    {\n",
    "        'date': datetime(2023, 9, 28),\n",
    "        'description': 'Paid employee salary for the period'\n",
    "    },\n",
    "    {\n",
    "        'date': datetime(2023, 9, 29),\n",
    "        'description': 'Billed Precision Clinic for cleaning services rendered'\n",
    "    },\n",
    "    {\n",
    "        'date': datetime(2023, 9, 30),\n",
    "        'description': 'Owner withdrew cash from the business'\n",
    "    },\n",
    "]\n",
    "\n",
    "for entry_data in journal_entries_data:\n",
    "    GeneralJournal.create(**entry_data)"
   ]
  },
  {
   "cell_type": "markdown",
   "id": "736537ff101c703a",
   "metadata": {},
   "source": [
    "# Sanity Checking General Journal\n",
    "Entries within the General Journal are then sanity-checked by checking the entries listed by the given query which are sorted by the id."
   ]
  },
  {
   "cell_type": "code",
   "execution_count": 15,
   "id": "7cd9aad4b68457f1",
   "metadata": {
    "ExecuteTime": {
     "end_time": "2024-10-05T20:08:49.676528Z",
     "start_time": "2024-10-05T20:08:49.655649Z"
    }
   },
   "outputs": [
    {
     "name": "stdout",
     "output_type": "stream",
     "text": [
      "ID: 1 Date: 2023-09-01 00:00:00 Description: Deposited cash and invested old deep cleaning equipment into the business\n",
      "ID: 2 Date: 2023-09-03 00:00:00 Description: Purchased cleaning supplies on account from CleanFast Trading\n",
      "ID: 3 Date: 2023-09-05 00:00:00 Description: Purchased cleaning equipment on account from A1 Merchandise\n",
      "ID: 4 Date: 2023-09-06 00:00:00 Description: Purchased motorcycle for business use, partly financed by issuing a note payable\n",
      "ID: 5 Date: 2023-09-07 00:00:00 Description: Paid rent for office space for the month\n",
      "ID: 6 Date: 2023-09-09 00:00:00 Description: Received cash for cleaning services rendered\n",
      "ID: 7 Date: 2023-09-10 00:00:00 Description: Paid Facebook ads for advertisement\n",
      "ID: 8 Date: 2023-09-11 00:00:00 Description: Paid insurance for the next six months\n",
      "ID: 9 Date: 2023-09-12 00:00:00 Description: Received advance payment for services to be performed next month\n",
      "ID: 10 Date: 2023-09-13 00:00:00 Description: Paid partial amount to CleanFast Trading on account\n",
      "ID: 11 Date: 2023-09-14 00:00:00 Description: Paid miscellaneous expenses\n",
      "ID: 12 Date: 2023-09-15 00:00:00 Description: Billed Aim High Laboratories for cleaning services rendered\n",
      "ID: 13 Date: 2023-09-16 00:00:00 Description: Paid employee salaries\n",
      "ID: 14 Date: 2023-09-20 00:00:00 Description: Received partial payment from Aim High Laboratories on account\n",
      "ID: 15 Date: 2023-09-22 00:00:00 Description: Paid partial payment on the note issued for motorcycle purchase\n",
      "ID: 16 Date: 2023-09-25 00:00:00 Description: Paid PLDT for telephone and internet expense\n",
      "ID: 17 Date: 2023-09-28 00:00:00 Description: Paid employee salary for the period\n",
      "ID: 18 Date: 2023-09-29 00:00:00 Description: Billed Precision Clinic for cleaning services rendered\n",
      "ID: 19 Date: 2023-09-30 00:00:00 Description: Owner withdrew cash from the business\n"
     ]
    }
   ],
   "source": [
    "query = GeneralJournal.select().order_by(GeneralJournal.id)\n",
    "for row in query:\n",
    "    print(f\"ID: {row.id} Date: {row.date} Description: {row.description}\")"
   ]
  },
  {
   "cell_type": "markdown",
   "id": "62cdb7eec94004c",
   "metadata": {},
   "source": [
    "# Inserting Transactions\n",
    "The various transactions are then inserted. For compound entries, multiple `SimpleEntry`s are used."
   ]
  },
  {
   "cell_type": "markdown",
   "id": "51e69dda56deee6d",
   "metadata": {},
   "source": [
    "## September 1\n",
    "Deposited ₱52,000 cash in bank account in the name of FDN Cleaning Service and invested an old deep cleaning equipment originally costing ₱35,000 but is now worth ₱10,000 at the time of investment"
   ]
  },
  {
   "cell_type": "code",
   "execution_count": 16,
   "id": "5a8bd90fdde101d3",
   "metadata": {
    "ExecuteTime": {
     "end_time": "2024-10-05T20:08:49.802494Z",
     "start_time": "2024-10-05T20:08:49.739509Z"
    }
   },
   "outputs": [
    {
     "data": {
      "text/plain": [
       "(<Ledger: 3>, <Ledger: 4>)"
      ]
     },
     "execution_count": 16,
     "metadata": {},
     "output_type": "execute_result"
    }
   ],
   "source": [
    "SimpleEntry(1, \"Cash\", \"Faith D. Nakpil, Capital\", 52000)\n",
    "SimpleEntry(1, \"Cleaning Equipment\", \"Faith D. Nakpil, Capital\", 10000)"
   ]
  },
  {
   "cell_type": "markdown",
   "id": "fdfa3d825b7a8c4e",
   "metadata": {},
   "source": [
    "## September 3\n",
    "Purchased cleaning supplies on account, ₱21,400 from CleanFast Trading. Received Sales Invoice #3567 from CleanFast Trading."
   ]
  },
  {
   "cell_type": "code",
   "execution_count": 17,
   "id": "ce670c2d822b9d6",
   "metadata": {
    "ExecuteTime": {
     "end_time": "2024-10-05T20:08:49.892223Z",
     "start_time": "2024-10-05T20:08:49.852177Z"
    }
   },
   "outputs": [
    {
     "data": {
      "text/plain": [
       "(<Ledger: 5>, <Ledger: 6>)"
      ]
     },
     "execution_count": 17,
     "metadata": {},
     "output_type": "execute_result"
    }
   ],
   "source": [
    "SimpleEntry(2, \"Cleaning Supplies\", \"Accounts Payable\", 21400)"
   ]
  },
  {
   "cell_type": "markdown",
   "id": "31fe680316983cf6",
   "metadata": {},
   "source": [
    "## September 5\n",
    "Purchased cleaning equipment on account, ₱15,600 from A1 Merchandise. Received Sales Invoice #2156 from A1 Merchandise."
   ]
  },
  {
   "cell_type": "code",
   "execution_count": 18,
   "id": "b5f05264401c2ce3",
   "metadata": {
    "ExecuteTime": {
     "end_time": "2024-10-05T20:08:50.022200Z",
     "start_time": "2024-10-05T20:08:49.979322Z"
    }
   },
   "outputs": [
    {
     "data": {
      "text/plain": [
       "(<Ledger: 7>, <Ledger: 8>)"
      ]
     },
     "execution_count": 18,
     "metadata": {},
     "output_type": "execute_result"
    }
   ],
   "source": [
    "SimpleEntry(3, \"Cleaning Equipment\", \"Accounts Payable\", 15600)"
   ]
  },
  {
   "cell_type": "markdown",
   "id": "28434789c88dafff",
   "metadata": {},
   "source": [
    "## September 6\n",
    "Purchased an old motorcycle costing ₱47,000 for the business, paying ₱10,000 cash with check #001, and financing the remaining by issuing a note payable"
   ]
  },
  {
   "cell_type": "code",
   "execution_count": 19,
   "id": "aa14402ad9f7a314",
   "metadata": {
    "ExecuteTime": {
     "end_time": "2024-10-05T20:08:50.200587Z",
     "start_time": "2024-10-05T20:08:50.123406Z"
    }
   },
   "outputs": [
    {
     "data": {
      "text/plain": [
       "(<Ledger: 11>, <Ledger: 12>)"
      ]
     },
     "execution_count": 19,
     "metadata": {},
     "output_type": "execute_result"
    }
   ],
   "source": [
    "SimpleEntry(4, \"Transportation Vehicle\", \"Cash\", 10000)\n",
    "SimpleEntry(4, \"Transportation Vehicle\", \"Notes Payable\", 37000)"
   ]
  },
  {
   "cell_type": "markdown",
   "id": "4f418fe63e45c0c9",
   "metadata": {},
   "source": [
    "## September 7\n",
    "Paid rent on office space for the month, ₱7,300 with check #002."
   ]
  },
  {
   "cell_type": "code",
   "execution_count": 20,
   "id": "9aefab4a81d73df2",
   "metadata": {
    "ExecuteTime": {
     "end_time": "2024-10-05T20:08:50.330981Z",
     "start_time": "2024-10-05T20:08:50.291054Z"
    }
   },
   "outputs": [
    {
     "data": {
      "text/plain": [
       "(<Ledger: 13>, <Ledger: 14>)"
      ]
     },
     "execution_count": 20,
     "metadata": {},
     "output_type": "execute_result"
    }
   ],
   "source": [
    "SimpleEntry(5, \"Rent Expense\", \"Cash\", 7300)"
   ]
  },
  {
   "cell_type": "markdown",
   "id": "cefa8578ab094539",
   "metadata": {},
   "source": [
    "## September 9\n",
    "Received ₱31,800 cash for cleaning services rendered. Issued OR#0001 and Service Invoice #10001"
   ]
  },
  {
   "cell_type": "code",
   "execution_count": 21,
   "id": "b323b2bfe17d1b18",
   "metadata": {
    "ExecuteTime": {
     "end_time": "2024-10-05T20:08:50.491314Z",
     "start_time": "2024-10-05T20:08:50.451519Z"
    }
   },
   "outputs": [
    {
     "data": {
      "text/plain": [
       "(<Ledger: 15>, <Ledger: 16>)"
      ]
     },
     "execution_count": 21,
     "metadata": {},
     "output_type": "execute_result"
    }
   ],
   "source": [
    "SimpleEntry(6, \"Cash\", \"Cleaning Revenues\", 31800)"
   ]
  },
  {
   "cell_type": "markdown",
   "id": "db599713ea3fae22",
   "metadata": {},
   "source": [
    "## September 10\n",
    "Paid Facebook ads for advertisement, ₱1,700 with check #003."
   ]
  },
  {
   "cell_type": "code",
   "execution_count": 22,
   "id": "e6211583a7a62c6d",
   "metadata": {
    "ExecuteTime": {
     "end_time": "2024-10-05T20:08:50.651381Z",
     "start_time": "2024-10-05T20:08:50.611307Z"
    }
   },
   "outputs": [
    {
     "data": {
      "text/plain": [
       "(<Ledger: 17>, <Ledger: 18>)"
      ]
     },
     "execution_count": 22,
     "metadata": {},
     "output_type": "execute_result"
    }
   ],
   "source": [
    "SimpleEntry(7, \"Advertising Expense\", \"Cash\", 1700)"
   ]
  },
  {
   "cell_type": "markdown",
   "id": "22caf31037094fda",
   "metadata": {},
   "source": [
    "## September 11\n",
    "Paid insurance for the next six months, ₱4,800 with check #004."
   ]
  },
  {
   "cell_type": "code",
   "execution_count": 23,
   "id": "2548d1386aa13b9c",
   "metadata": {
    "ExecuteTime": {
     "end_time": "2024-10-05T20:08:50.791699Z",
     "start_time": "2024-10-05T20:08:50.752345Z"
    }
   },
   "outputs": [
    {
     "data": {
      "text/plain": [
       "(<Ledger: 19>, <Ledger: 20>)"
      ]
     },
     "execution_count": 23,
     "metadata": {},
     "output_type": "execute_result"
    }
   ],
   "source": [
    "SimpleEntry(8, \"Prepaid Insurance Expense\", \"Cash\", 4800)"
   ]
  },
  {
   "cell_type": "markdown",
   "id": "6a4344dc041c56d1",
   "metadata": {},
   "source": [
    "## September 12\n",
    "Received ₱6,200 as advance payment from a customer for services scheduled to be\n",
    "performed next month. Issued OR#0002"
   ]
  },
  {
   "cell_type": "code",
   "execution_count": 24,
   "id": "227139b177a14f34",
   "metadata": {
    "ExecuteTime": {
     "end_time": "2024-10-05T20:08:50.961348Z",
     "start_time": "2024-10-05T20:08:50.920754Z"
    }
   },
   "outputs": [
    {
     "data": {
      "text/plain": [
       "(<Ledger: 21>, <Ledger: 22>)"
      ]
     },
     "execution_count": 24,
     "metadata": {},
     "output_type": "execute_result"
    }
   ],
   "source": [
    "SimpleEntry(9, \"Cash\", \"Unearned Service Revenue\", 6200)"
   ]
  },
  {
   "cell_type": "markdown",
   "id": "171c4bec149df206",
   "metadata": {},
   "source": [
    "## September 13\n",
    "Paid ₱9,000 to CleanFast Trading as partial payment, with check #005"
   ]
  },
  {
   "cell_type": "code",
   "execution_count": 25,
   "id": "25d735d64ad26f2c",
   "metadata": {
    "ExecuteTime": {
     "end_time": "2024-10-05T20:08:51.137585Z",
     "start_time": "2024-10-05T20:08:51.094968Z"
    }
   },
   "outputs": [
    {
     "data": {
      "text/plain": [
       "(<Ledger: 23>, <Ledger: 24>)"
      ]
     },
     "execution_count": 25,
     "metadata": {},
     "output_type": "execute_result"
    }
   ],
   "source": [
    "SimpleEntry(10, \"Accounts Payable\", \"Cash\", 9000)"
   ]
  },
  {
   "cell_type": "markdown",
   "id": "a75f0ad9cffee4ad",
   "metadata": {},
   "source": [
    "## September 14\n",
    "Paid miscellaneous expenses, ₱2,200 with check #006."
   ]
  },
  {
   "cell_type": "code",
   "execution_count": 26,
   "id": "1feef25c11ffce43",
   "metadata": {
    "ExecuteTime": {
     "end_time": "2024-10-05T20:08:51.295301Z",
     "start_time": "2024-10-05T20:08:51.253019Z"
    }
   },
   "outputs": [
    {
     "data": {
      "text/plain": [
       "(<Ledger: 25>, <Ledger: 26>)"
      ]
     },
     "execution_count": 26,
     "metadata": {},
     "output_type": "execute_result"
    }
   ],
   "source": [
    "SimpleEntry(11, \"Miscellaneous Expense\", \"Cash\", 2200)"
   ]
  },
  {
   "cell_type": "markdown",
   "id": "76b65feccb802195",
   "metadata": {},
   "source": [
    "## September 15\n",
    "Billed Aim High Laboratories ₱18,600 for cleaning services rendered. Issued Service\n",
    "Invoice #10002"
   ]
  },
  {
   "cell_type": "code",
   "execution_count": 27,
   "id": "4d4b9ca509a605f2",
   "metadata": {
    "ExecuteTime": {
     "end_time": "2024-10-05T20:08:51.485848Z",
     "start_time": "2024-10-05T20:08:51.433146Z"
    }
   },
   "outputs": [
    {
     "data": {
      "text/plain": [
       "(<Ledger: 27>, <Ledger: 28>)"
      ]
     },
     "execution_count": 27,
     "metadata": {},
     "output_type": "execute_result"
    }
   ],
   "source": [
    "SimpleEntry(12, \"Accounts Receivable\", \"Cleaning Revenues\", 18600)"
   ]
  },
  {
   "cell_type": "markdown",
   "id": "c3c7bd9befa7808c",
   "metadata": {},
   "source": [
    "## September 16\n",
    "Paid salaries, ₱8,400 with check #007."
   ]
  },
  {
   "cell_type": "code",
   "execution_count": 28,
   "id": "8769b3e013dbf5da",
   "metadata": {
    "ExecuteTime": {
     "end_time": "2024-10-05T20:08:51.607026Z",
     "start_time": "2024-10-05T20:08:51.569935Z"
    }
   },
   "outputs": [
    {
     "data": {
      "text/plain": [
       "(<Ledger: 29>, <Ledger: 30>)"
      ]
     },
     "execution_count": 28,
     "metadata": {},
     "output_type": "execute_result"
    }
   ],
   "source": [
    "SimpleEntry(13, \"Salaries Expense\", \"Cash\", 8400)"
   ]
  },
  {
   "cell_type": "markdown",
   "id": "6c9b039d4d20d329",
   "metadata": {},
   "source": [
    "## September 20\n",
    "Received ₱9,800 from Aim High Laboratories as partial payment for the September 15 bill.\n",
    "Issued OR#0003"
   ]
  },
  {
   "cell_type": "code",
   "execution_count": 29,
   "id": "896e161bf1b4c0cb",
   "metadata": {
    "ExecuteTime": {
     "end_time": "2024-10-05T20:08:51.765508Z",
     "start_time": "2024-10-05T20:08:51.720632Z"
    }
   },
   "outputs": [
    {
     "data": {
      "text/plain": [
       "(<Ledger: 31>, <Ledger: 32>)"
      ]
     },
     "execution_count": 29,
     "metadata": {},
     "output_type": "execute_result"
    }
   ],
   "source": [
    "SimpleEntry(14, \"Cash\", \"Accounts Receivable\", 9800)"
   ]
  },
  {
   "cell_type": "markdown",
   "id": "7fd1b48ec77ca955",
   "metadata": {},
   "source": [
    "## September 22\n",
    "Paid partially the note issued on September 6 for ₱2,400 with check #008."
   ]
  },
  {
   "cell_type": "code",
   "execution_count": 30,
   "id": "1a1b21ed1cc1d080",
   "metadata": {
    "ExecuteTime": {
     "end_time": "2024-10-05T20:08:51.891747Z",
     "start_time": "2024-10-05T20:08:51.845846Z"
    }
   },
   "outputs": [
    {
     "data": {
      "text/plain": [
       "(<Ledger: 33>, <Ledger: 34>)"
      ]
     },
     "execution_count": 30,
     "metadata": {},
     "output_type": "execute_result"
    }
   ],
   "source": [
    "SimpleEntry(15, \"Notes Payable\", \"Cash\", 2400)"
   ]
  },
  {
   "cell_type": "markdown",
   "id": "3fd4c7b85aad6244",
   "metadata": {},
   "source": [
    "## September 25\n",
    "Paid PLDT for telephone and internet expense, ₱900 with check #009."
   ]
  },
  {
   "cell_type": "code",
   "execution_count": 31,
   "id": "8ba3bc3a23d80691",
   "metadata": {
    "ExecuteTime": {
     "end_time": "2024-10-05T20:08:52.032851Z",
     "start_time": "2024-10-05T20:08:51.984887Z"
    }
   },
   "outputs": [
    {
     "data": {
      "text/plain": [
       "(<Ledger: 35>, <Ledger: 36>)"
      ]
     },
     "execution_count": 31,
     "metadata": {},
     "output_type": "execute_result"
    }
   ],
   "source": [
    "SimpleEntry(16, \"Utilities Expense\", \"Cash\", 900)"
   ]
  },
  {
   "cell_type": "markdown",
   "id": "5f9620e5785e9ae6",
   "metadata": {},
   "source": [
    "## September 28\n",
    "Paid employee salary, ₱7,900 with check #010."
   ]
  },
  {
   "cell_type": "code",
   "execution_count": 32,
   "id": "6d8af2301c5a8f1",
   "metadata": {
    "ExecuteTime": {
     "end_time": "2024-10-05T20:08:52.184830Z",
     "start_time": "2024-10-05T20:08:52.138351Z"
    }
   },
   "outputs": [
    {
     "data": {
      "text/plain": [
       "(<Ledger: 37>, <Ledger: 38>)"
      ]
     },
     "execution_count": 32,
     "metadata": {},
     "output_type": "execute_result"
    }
   ],
   "source": [
    "SimpleEntry(17, \"Salaries Expense\", \"Cash\", 7900)"
   ]
  },
  {
   "cell_type": "markdown",
   "id": "ad736f03cef18dcd",
   "metadata": {},
   "source": [
    "## September 29\n",
    "Billed Precision Clinic for cleaning services rendered, ₱22,500. Issued Service Invoice #\n",
    "10003."
   ]
  },
  {
   "cell_type": "code",
   "execution_count": 33,
   "id": "e2c24138dc5eb1a8",
   "metadata": {
    "ExecuteTime": {
     "end_time": "2024-10-05T20:08:52.404711Z",
     "start_time": "2024-10-05T20:08:52.358591Z"
    }
   },
   "outputs": [
    {
     "data": {
      "text/plain": [
       "(<Ledger: 39>, <Ledger: 40>)"
      ]
     },
     "execution_count": 33,
     "metadata": {},
     "output_type": "execute_result"
    }
   ],
   "source": [
    "SimpleEntry(18, \"Accounts Receivable\", \"Cleaning Revenues\", 22500)"
   ]
  },
  {
   "cell_type": "markdown",
   "id": "66de9fdb6afcbc8c",
   "metadata": {},
   "source": [
    "## September 30\n",
    "Faith withdrew ₱10,000 from the business with check #011"
   ]
  },
  {
   "cell_type": "code",
   "execution_count": 34,
   "id": "688895f81ea8d409",
   "metadata": {
    "ExecuteTime": {
     "end_time": "2024-10-05T20:08:52.656941Z",
     "start_time": "2024-10-05T20:08:52.614245Z"
    }
   },
   "outputs": [
    {
     "data": {
      "text/plain": [
       "(<Ledger: 41>, <Ledger: 42>)"
      ]
     },
     "execution_count": 34,
     "metadata": {},
     "output_type": "execute_result"
    }
   ],
   "source": [
    "SimpleEntry(19, \"Faith D. Nakpil, Drawing\", \"Cash\", 10000)"
   ]
  },
  {
   "cell_type": "markdown",
   "id": "b650911adc391438",
   "metadata": {},
   "source": [
    "# Displaying Ledger Entries\n",
    "The code below displays the ledger entries for each account."
   ]
  },
  {
   "cell_type": "code",
   "execution_count": 35,
   "id": "3a37ec4a54b0dedf",
   "metadata": {
    "ExecuteTime": {
     "end_time": "2024-10-05T20:08:53.181049Z",
     "start_time": "2024-10-05T20:08:53.132455Z"
    }
   },
   "outputs": [
    {
     "name": "stdout",
     "output_type": "stream",
     "text": [
      "\n",
      "Account: Cash\n",
      "Date\t\tDescription\t\tDebit\tCredit\tBalance\n",
      "2023-09-01\tDeposited cash and invested old deep cleaning equipment into the business\t52000\t\t52000\n",
      "2023-09-06\tPurchased motorcycle for business use, partly financed by issuing a note payable\t\t10000\t42000\n",
      "2023-09-07\tPaid rent for office space for the month\t\t7300\t34700\n",
      "2023-09-09\tReceived cash for cleaning services rendered\t31800\t\t66500\n",
      "2023-09-10\tPaid Facebook ads for advertisement\t\t1700\t64800\n",
      "2023-09-11\tPaid insurance for the next six months\t\t4800\t60000\n",
      "2023-09-12\tReceived advance payment for services to be performed next month\t6200\t\t66200\n",
      "2023-09-13\tPaid partial amount to CleanFast Trading on account\t\t9000\t57200\n",
      "2023-09-14\tPaid miscellaneous expenses\t\t2200\t55000\n",
      "2023-09-16\tPaid employee salaries\t\t8400\t46600\n",
      "2023-09-20\tReceived partial payment from Aim High Laboratories on account\t9800\t\t56400\n",
      "2023-09-22\tPaid partial payment on the note issued for motorcycle purchase\t\t2400\t54000\n",
      "2023-09-25\tPaid PLDT for telephone and internet expense\t\t900\t53100\n",
      "2023-09-28\tPaid employee salary for the period\t\t7900\t45200\n",
      "2023-09-30\tOwner withdrew cash from the business\t\t10000\t35200\n",
      "\n",
      "Account: Faith D. Nakpil, Capital\n",
      "Date\t\tDescription\t\tDebit\tCredit\tBalance\n",
      "2023-09-01\tDeposited cash and invested old deep cleaning equipment into the business\t\t52000\t52000\n",
      "2023-09-01\tDeposited cash and invested old deep cleaning equipment into the business\t\t10000\t62000\n",
      "\n",
      "Account: Cleaning Equipment\n",
      "Date\t\tDescription\t\tDebit\tCredit\tBalance\n",
      "2023-09-01\tDeposited cash and invested old deep cleaning equipment into the business\t10000\t\t10000\n",
      "2023-09-05\tPurchased cleaning equipment on account from A1 Merchandise\t15600\t\t25600\n",
      "\n",
      "Account: Cleaning Supplies\n",
      "Date\t\tDescription\t\tDebit\tCredit\tBalance\n",
      "2023-09-03\tPurchased cleaning supplies on account from CleanFast Trading\t21400\t\t21400\n",
      "\n",
      "Account: Accounts Payable\n",
      "Date\t\tDescription\t\tDebit\tCredit\tBalance\n",
      "2023-09-03\tPurchased cleaning supplies on account from CleanFast Trading\t\t21400\t21400\n",
      "2023-09-05\tPurchased cleaning equipment on account from A1 Merchandise\t\t15600\t37000\n",
      "2023-09-13\tPaid partial amount to CleanFast Trading on account\t9000\t\t28000\n",
      "\n",
      "Account: Transportation Vehicle\n",
      "Date\t\tDescription\t\tDebit\tCredit\tBalance\n",
      "2023-09-06\tPurchased motorcycle for business use, partly financed by issuing a note payable\t10000\t\t10000\n",
      "2023-09-06\tPurchased motorcycle for business use, partly financed by issuing a note payable\t37000\t\t47000\n",
      "\n",
      "Account: Notes Payable\n",
      "Date\t\tDescription\t\tDebit\tCredit\tBalance\n",
      "2023-09-06\tPurchased motorcycle for business use, partly financed by issuing a note payable\t\t37000\t37000\n",
      "2023-09-22\tPaid partial payment on the note issued for motorcycle purchase\t2400\t\t34600\n",
      "\n",
      "Account: Rent Expense\n",
      "Date\t\tDescription\t\tDebit\tCredit\tBalance\n",
      "2023-09-07\tPaid rent for office space for the month\t7300\t\t7300\n",
      "\n",
      "Account: Cleaning Revenues\n",
      "Date\t\tDescription\t\tDebit\tCredit\tBalance\n",
      "2023-09-09\tReceived cash for cleaning services rendered\t\t31800\t31800\n",
      "2023-09-15\tBilled Aim High Laboratories for cleaning services rendered\t\t18600\t50400\n",
      "2023-09-29\tBilled Precision Clinic for cleaning services rendered\t\t22500\t72900\n",
      "\n",
      "Account: Advertising Expense\n",
      "Date\t\tDescription\t\tDebit\tCredit\tBalance\n",
      "2023-09-10\tPaid Facebook ads for advertisement\t1700\t\t1700\n",
      "\n",
      "Account: Prepaid Insurance Expense\n",
      "Date\t\tDescription\t\tDebit\tCredit\tBalance\n",
      "2023-09-11\tPaid insurance for the next six months\t4800\t\t4800\n",
      "\n",
      "Account: Unearned Service Revenue\n",
      "Date\t\tDescription\t\tDebit\tCredit\tBalance\n",
      "2023-09-12\tReceived advance payment for services to be performed next month\t\t6200\t6200\n",
      "\n",
      "Account: Miscellaneous Expense\n",
      "Date\t\tDescription\t\tDebit\tCredit\tBalance\n",
      "2023-09-14\tPaid miscellaneous expenses\t2200\t\t2200\n",
      "\n",
      "Account: Accounts Receivable\n",
      "Date\t\tDescription\t\tDebit\tCredit\tBalance\n",
      "2023-09-15\tBilled Aim High Laboratories for cleaning services rendered\t18600\t\t18600\n",
      "2023-09-20\tReceived partial payment from Aim High Laboratories on account\t\t9800\t8800\n",
      "2023-09-29\tBilled Precision Clinic for cleaning services rendered\t22500\t\t31300\n",
      "\n",
      "Account: Salaries Expense\n",
      "Date\t\tDescription\t\tDebit\tCredit\tBalance\n",
      "2023-09-16\tPaid employee salaries\t8400\t\t8400\n",
      "2023-09-28\tPaid employee salary for the period\t7900\t\t16300\n",
      "\n",
      "Account: Utilities Expense\n",
      "Date\t\tDescription\t\tDebit\tCredit\tBalance\n",
      "2023-09-25\tPaid PLDT for telephone and internet expense\t900\t\t900\n",
      "\n",
      "Account: Faith D. Nakpil, Drawing\n",
      "Date\t\tDescription\t\tDebit\tCredit\tBalance\n",
      "2023-09-30\tOwner withdrew cash from the business\t10000\t\t10000\n"
     ]
    }
   ],
   "source": [
    "from collections import defaultdict\n",
    "\n",
    "# Fetch all ledger entries ordered by date and id\n",
    "ledger_entries = Ledger.select().order_by(Ledger.date, Ledger.id)\n",
    "\n",
    "# Organize entries by account\n",
    "accounts_ledgers = defaultdict(list)\n",
    "for entry in ledger_entries:\n",
    "    accounts_ledgers[entry.account.account_title].append(entry)\n",
    "\n",
    "# Display ledger entries for each account\n",
    "for account_title, entries in accounts_ledgers.items():\n",
    "    print(f\"\\nAccount: {account_title}\")\n",
    "    print(\"Date\\t\\tDescription\\t\\tDebit\\tCredit\\tBalance\")\n",
    "    for entry in entries:\n",
    "        debit = entry.debit if entry.debit else ''\n",
    "        credit = entry.credit if entry.credit else ''\n",
    "        balance = entry.balance if entry.balance else ''\n",
    "        print(f\"{entry.date.date()}\\t{entry.description}\\t{debit}\\t{credit}\\t{balance}\")\n"
   ]
  },
  {
   "cell_type": "code",
   "execution_count": null,
   "id": "bd05811f-811c-41f9-99fe-3f63e53f755d",
   "metadata": {},
   "outputs": [],
   "source": []
  },
  {
   "cell_type": "code",
   "execution_count": null,
   "id": "3a3ea18f-d45e-45dd-8843-30173a164c4f",
   "metadata": {},
   "outputs": [],
   "source": []
  },
  {
   "cell_type": "code",
   "execution_count": null,
   "id": "cc9dee39-db4d-49e9-835f-2495dd5e4cd8",
   "metadata": {},
   "outputs": [],
   "source": []
  }
 ],
 "metadata": {
  "kernelspec": {
   "display_name": "Python 3 (ipykernel)",
   "language": "python",
   "name": "python3"
  },
  "language_info": {
   "codemirror_mode": {
    "name": "ipython",
    "version": 3
   },
   "file_extension": ".py",
   "mimetype": "text/x-python",
   "name": "python",
   "nbconvert_exporter": "python",
   "pygments_lexer": "ipython3",
   "version": "3.12.7"
  }
 },
 "nbformat": 4,
 "nbformat_minor": 5
}
