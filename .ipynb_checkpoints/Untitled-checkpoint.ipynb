{
 "cells": [
  {
   "cell_type": "markdown",
   "id": "b21cdabd-1f44-4afc-ab36-ec60922029ee",
   "metadata": {},
   "source": [
    "# FDNACCT: Individual Project - Journal Entries, Ledger Postings, and Trial Balance (Service Business)\n",
    "\n",
    "### Academic Year 2024-2025, Term 1\n",
    "\n",
    "**Individual Output**  \n",
    "**10% of Final Grade**  \n",
    "**DEADLINE:** October 18, 2024, Friday, 11:59 PM, Animo Space\n",
    "\n",
    "---\n",
    "\n",
    "Faith D. Nakpil recently established a business in September 2024, focusing on deep cleaning services under the name **FDN Cleaning Service**. Below are the Chart of Accounts and financial transactions for the first month of operation.\n",
    "\n",
    "---\n",
    "\n",
    "## FDN Cleaning Service  \n",
    "### Chart of Accounts\n",
    "\n",
    "| **Account #** | **Account Title**             |\n",
    "| ------------- | ----------------------------- |\n",
    "| **Assets**    |                               |\n",
    "| 101           | Cash                          |\n",
    "| 102           | Accounts Receivable           |\n",
    "| 103           | Cleaning Supplies             |\n",
    "| 104           | Prepaid Insurance Expense     |\n",
    "| 111           | Cleaning Equipment            |\n",
    "| 112           | Transportation Vehicle        |\n",
    "| **Liabilities**|                              |\n",
    "| 201           | Accounts Payable              |\n",
    "| 202           | Notes Payable                 |\n",
    "| 203           | Unearned Service Revenue      |\n",
    "| **Owner’s Equity** |                          |\n",
    "| 301           | Faith D. Nakpil, Capital      |\n",
    "| 302           | Faith D. Nakpil, Drawing      |\n",
    "| **Revenues**  |                               |\n",
    "| 401           | Cleaning Revenues             |\n",
    "| **Expenses**  |                               |\n",
    "| 501           | Salaries Expense              |\n",
    "| 502           | Utilities Expense             |\n",
    "| 503           | Rent Expense                  |\n",
    "| 504           | Advertising Expense           |\n",
    "| 505           | Miscellaneous Expense         |\n",
    "\n",
    "---\n",
    "\n",
    "## Financial Transactions\n",
    "\n",
    "### September 2024\n",
    "\n",
    "| **Date** | **Transactions**                                                                                                                                     |\n",
    "| -------- | ---------------------------------------------------------------------------------------------------------------------------------------------------- |\n",
    "| Sept 1   | Deposited ₱52,000 cash into the bank account of FDN Cleaning Service and invested an old deep cleaning equipment originally costing ₱35,000, now worth ₱10,000. |\n",
    "| Sept 3   | Purchased cleaning supplies on account, ₱21,400, from CleanFast Trading. Received Sales Invoice #3567.                                               |\n",
    "| Sept 5   | Purchased cleaning equipment on account, ₱15,600, from A1 Merchandise. Received Sales Invoice #2156.                                                |\n",
    "| Sept 6   | Purchased an old motorcycle for the business, costing ₱47,000. Paid ₱10,000 cash with check #001, financed the remainder by issuing a note payable.  |\n",
    "| Sept 7   | Paid rent for office space for the month, ₱7,300 with check #002.                                                                                    |\n",
    "| Sept 9   | Received ₱31,800 cash for cleaning services rendered. Issued OR#0001 and Service Invoice #10001.                                                     |\n",
    "| Sept 10  | Paid Facebook ads for advertisement, ₱1,700 with check #003.                                                                                        |\n",
    "| Sept 11  | Paid insurance for the next six months, ₱4,800 with check #004.                                                                                     |\n",
    "| Sept 12  | Received ₱6,200 as advance payment for services to be performed next month. Issued OR#0002.                                                         |\n",
    "| Sept 13  | Paid ₱9,000 to CleanFast Trading as partial payment, with check #005.                                                                               |\n",
    "| Sept 14  | Paid miscellaneous expenses, ₱2,200 with check #006.                                                                                                |\n",
    "| Sept 15  | Billed Aim High Laboratories ₱18,600 for cleaning services rendered. Issued Service Invoice #10002.                                                 |\n",
    "| Sept 16  | Paid salaries, ₱8,400 with check #007.                                                                                                              |\n",
    "| Sept 20  | Received ₱9,800 from Aim High Laboratories as partial payment for the September 15 bill. Issued OR#0003.                                            |\n",
    "| Sept 22  | Paid partial amount of note payable issued on September 6, ₱2,400 with check #008.                                                                  |\n",
    "| Sept 25  | Paid PLDT for telephone and internet expenses, ₱900 with check #009.                                                                                |\n",
    "| Sept 28  | Paid employee salary, ₱7,900 with check #010.                                                                                                       |\n",
    "| Sept 29  | Billed Precision Clinic ₱22,500 for cleaning services rendered. Issued Service Invoice #10003.                                                      |\n",
    "| Sept 30  | Faith withdrew ₱10,000 from the business with check #011.                                                                                           |\n",
    "\n",
    "---\n",
    "\n",
    "## REMINDER:\n",
    "\n",
    "- **File Name:** FDNACCT `<space>` Section_Individual Project_Surname, First Name  \n",
    "  Example: FDNACCT C31A_Individual Project_Cruz, Juan\n",
    "- Submit as a Google Spreadsheet link.\n",
    "\n",
    "---\n",
    "\n",
    "## INSTRUCTIONS:\n",
    "\n",
    "1. **General Journal:**\n",
    "   - Before journalizing, enter columnar headings: Date, Description, P/R, Debit, Credit.\n",
    "   - Journalize the transactions with descriptions and source documents. Use compound entries where necessary.\n",
    "   - In the Posting Reference (P/R) column, encode the account numbers.\n",
    "   - Leave a space after each journal entry.\n",
    "   - **Rows 1-35:** Page 1, **Rows 36-70:** Page 2, **Rows 71-105:** Page 3.\n",
    "   - **Google Spreadsheet:** Use **Sheet1**, rename the tab as **GJ**.\n",
    "\n",
    "2. **General Ledger:**\n",
    "   - Open accounts by entering account names and numbers.\n",
    "   - Follow the order of accounts in the Chart of Accounts.\n",
    "   - Enter columnar headings: Date, Description, P/R or F, Debit, Credit, Balance.\n",
    "   - Post accounts to the ledger, with cross-referencing in the P/R column.\n",
    "   - Leave a space after every account.\n",
    "   - **Google Spreadsheet:** Use **Sheet2**, rename the tab as **GL**.\n",
    "\n",
    "3. **Trial Balance:**\n",
    "   - Prepare the Trial Balance for the month ending **September 30, 2024**.\n",
    "   - **Google Spreadsheet:** Use **Sheet3**, rename the tab as **TB**.\n",
    "\n",
    "---\n",
    "\n",
    "## RUBRIC FOR ASSESSMENT:\n",
    "\n",
    "| **Criteria**                   | **Exemplary (93-100)** | **Satisfactory (80-92)** | **Developing (70-79)** | **Beginning (Below 70)** |\n",
    "| ------------------------------ | ---------------------- | ------------------------ | ---------------------- | ------------------------ |\n",
    "| **Content - Correctness and Completeness (80%)** | The student answered the project correctly and completely. | The student answered the majority of the project correctly and completely. | The student answered some of the project correctly and completely. | The student failed to answer the project correctly and completely. |\n",
    "| **Neatness and Orderliness (10%)** | The student accomplished the requirements in good form.* | The student accomplished most of the requirements in good form. | The student accomplished some of the requirements in good form. | The student accomplished minimal portions in good form. |\n",
    "| **Timeliness (10%)** | The student submitted output on or before the deadline. | The student submitted output a day after the deadline. | The student submitted output three (3) days after the deadline. | The student submitted output a week or more after the deadline. |\n",
    "\n",
    "---\n",
    "\n",
    "\\* **In good form:** preserves neatness of work, places headings properly, uses money columns correctly, and follows ruling procedures.\n"
   ]
  },
  {
   "cell_type": "code",
   "execution_count": 84,
   "id": "aaeddd38-4f82-4804-8184-c2060d70d4b4",
   "metadata": {},
   "outputs": [],
   "source": [
    "from peewee import *\n",
    "from datetime import datetime\n",
    "db = SqliteDatabase('accounting.db')"
   ]
  },
  {
   "cell_type": "code",
   "execution_count": 85,
   "id": "05d6cae2-431c-43ab-be9b-a30dc7f32575",
   "metadata": {},
   "outputs": [],
   "source": [
    "class ChartOfAccounts(Model):\n",
    "    id = IntegerField(unique=True, primary_key=True)\n",
    "    account_type = CharField()\n",
    "    account_title = CharField()\n",
    "\n",
    "    class Meta:\n",
    "        database = db\n",
    "\n",
    "class GeneralJournal(Model):\n",
    "    id = AutoField()\n",
    "    date = DateTimeField()\n",
    "    description = CharField()\n",
    "\n",
    "    class Meta:\n",
    "        database = db\n",
    "\n",
    "class GeneralJournalEntry(Model):\n",
    "    id = AutoField()\n",
    "    journal = ForeignKeyField(GeneralJournal, backref='entries')\n",
    "    account = ForeignKeyField(ChartOfAccounts, backref='journal_entries')\n",
    "    debit = DecimalField(max_digits=10, decimal_places=2, null=True)\n",
    "    credit = DecimalField(max_digits=10, decimal_places=2, null=True)\n",
    "\n",
    "    class Meta:\n",
    "        database = db\n",
    "\n",
    "class Ledger(Model):\n",
    "    date = DateTimeField()\n",
    "    description = CharField()\n",
    "    pr = ForeignKeyField(GeneralJournalEntry, backref=\"ledgers\")\n",
    "    debit = DecimalField(max_digits=10, decimal_places=2, null=True)\n",
    "    credit = DecimalField(max_digits=10, decimal_places=2, null=True)\n",
    "    balance = DecimalField(max_digits=10, decimal_places=2, null=True)\n",
    "\n",
    "    class Meta:\n",
    "        database = db"
   ]
  },
  {
   "cell_type": "code",
   "execution_count": 86,
   "id": "5818325c-584f-4232-866a-f46e691f1abb",
   "metadata": {},
   "outputs": [],
   "source": [
    "db.connect()\n",
    "db.create_tables([ChartOfAccounts, GeneralJournal, GeneralJournalEntry, Ledger])"
   ]
  },
  {
   "cell_type": "code",
   "execution_count": 87,
   "id": "4b26776e-ddbb-4e96-b65e-32fcc037e08b",
   "metadata": {},
   "outputs": [
    {
     "data": {
      "text/plain": [
       "['chartofaccounts', 'generaljournal', 'generaljournalentry', 'ledger']"
      ]
     },
     "execution_count": 87,
     "metadata": {},
     "output_type": "execute_result"
    }
   ],
   "source": [
    "db.get_tables()"
   ]
  },
  {
   "cell_type": "code",
   "execution_count": 88,
   "id": "a8a95f68-d572-4dbb-aad1-a7742885c5e2",
   "metadata": {},
   "outputs": [
    {
     "data": {
      "text/plain": [
       "505"
      ]
     },
     "execution_count": 88,
     "metadata": {},
     "output_type": "execute_result"
    }
   ],
   "source": [
    "accounts = [\n",
    "    (101, 'Assets', 'Cash'),\n",
    "    (102, 'Assets', 'Accounts Receivable'),\n",
    "    (103, 'Assets', 'Cleaning Supplies'),\n",
    "    (104, 'Assets', 'Prepaid Insurance Expense'),\n",
    "    (111, 'Assets', 'Cleaning Equipment'),\n",
    "    (112, 'Assets', 'Transportation Vehicle'),\n",
    "    (201, 'Liabilities', 'Accounts Payable'),\n",
    "    (202, 'Liabilities', 'Notes Payable'),\n",
    "    (203, 'Liabilities', 'Unearned Service Revenue'),\n",
    "    (301, 'Owner’s Equity', 'Faith D. Nakpil, Capital'),\n",
    "    (302, 'Owner’s Equity', 'Faith D. Nakpil, Drawing'),\n",
    "    (401, 'Revenues', 'Cleaning Revenues'),\n",
    "    (501, 'Expenses', 'Salaries Expense'),\n",
    "    (502, 'Expenses', 'Utilities Expense'),\n",
    "    (503, 'Expenses', 'Rent Expense'),\n",
    "    (504, 'Expenses', 'Advertising Expense'),\n",
    "    (505, 'Expenses', 'Miscellaneous Expense')\n",
    "]\n",
    "\n",
    "ChartOfAccounts.insert_many(accounts).execute()"
   ]
  },
  {
   "cell_type": "markdown",
   "id": "acdc6ae5-811f-4d86-947f-f26203bc906b",
   "metadata": {},
   "source": [
    "### Printing of Accounts\n",
    "The code below prints the account type as well as its name and ID. These would be used for journalizing and posting later. Acts as a sanity check of sorts"
   ]
  },
  {
   "cell_type": "code",
   "execution_count": 89,
   "id": "47eb01be-4ff6-48c1-b038-358b427214c4",
   "metadata": {},
   "outputs": [
    {
     "name": "stdout",
     "output_type": "stream",
     "text": [
      "ID: 101 Type: Assets Account Name: Cash\n",
      "ID: 102 Type: Assets Account Name: Accounts Receivable\n",
      "ID: 103 Type: Assets Account Name: Cleaning Supplies\n",
      "ID: 104 Type: Assets Account Name: Prepaid Insurance Expense\n",
      "ID: 111 Type: Assets Account Name: Cleaning Equipment\n",
      "ID: 112 Type: Assets Account Name: Transportation Vehicle\n",
      "ID: 201 Type: Liabilities Account Name: Accounts Payable\n",
      "ID: 202 Type: Liabilities Account Name: Notes Payable\n",
      "ID: 203 Type: Liabilities Account Name: Unearned Service Revenue\n",
      "ID: 301 Type: Owner’s Equity Account Name: Faith D. Nakpil, Capital\n",
      "ID: 302 Type: Owner’s Equity Account Name: Faith D. Nakpil, Drawing\n",
      "ID: 401 Type: Revenues Account Name: Cleaning Revenues\n",
      "ID: 501 Type: Expenses Account Name: Salaries Expense\n",
      "ID: 502 Type: Expenses Account Name: Utilities Expense\n",
      "ID: 503 Type: Expenses Account Name: Rent Expense\n",
      "ID: 504 Type: Expenses Account Name: Advertising Expense\n",
      "ID: 505 Type: Expenses Account Name: Miscellaneous Expense\n"
     ]
    }
   ],
   "source": [
    "query = ChartOfAccounts.select().order_by(ChartOfAccounts.id)\n",
    "for row in query:\n",
    "    print(f\"ID: {row.id} Type: {row.account_type} Account Name: {row.account_title}\")"
   ]
  },
  {
   "cell_type": "markdown",
   "id": "94d3a584-a533-43ad-85a4-b0fb9577315a",
   "metadata": {},
   "source": [
    "The code below defines a simple entry function. Compound Entries maybe formed by using multiple "
   ]
  },
  {
   "cell_type": "code",
   "execution_count": 90,
   "id": "7c1abe5a-d0e0-4dff-b2ff-b2302da8d581",
   "metadata": {},
   "outputs": [],
   "source": [
    "def get_account_by_title(title):\n",
    "    return ChartOfAccounts.get(ChartOfAccounts.account_title == title)\n",
    "\n",
    "def SimpleEntry(general_journal, debit_account_title, credit_account_title, amount):\n",
    "    debit_account = get_account_by_title(debit_account_title)\n",
    "    credit_account = get_account_by_title(credit_account_title)\n",
    "\n",
    "    GeneralJournalEntry.create(\n",
    "        journal=general_journal,\n",
    "        account=debit_account,\n",
    "        debit=amount,\n",
    "        credit=None\n",
    "    )\n",
    "\n",
    "    GeneralJournalEntry.create(\n",
    "        journal=general_journal,\n",
    "        account=credit_account,\n",
    "        debit=None,\n",
    "        credit=amount\n",
    "    )"
   ]
  },
  {
   "cell_type": "code",
   "execution_count": 91,
   "id": "9eb7c820-62e4-467d-9100-006d6a8cb03c",
   "metadata": {},
   "outputs": [],
   "source": [
    "journal_entries_data = [\n",
    "    {\n",
    "        'date': datetime(2023, 9, 1),\n",
    "        'description': 'Deposited cash and invested old deep cleaning equipment into the business'\n",
    "    },\n",
    "    {\n",
    "        'date': datetime(2023, 9, 3),\n",
    "        'description': 'Purchased cleaning supplies on account from CleanFast Trading'\n",
    "    },\n",
    "    {\n",
    "        'date': datetime(2023, 9, 5),\n",
    "        'description': 'Purchased cleaning equipment on account from A1 Merchandise'\n",
    "    },\n",
    "    {\n",
    "        'date': datetime(2023, 9, 6),\n",
    "        'description': 'Purchased motorcycle for business use, partly financed by issuing a note payable'\n",
    "    },\n",
    "    {\n",
    "        'date': datetime(2023, 9, 7),\n",
    "        'description': 'Paid rent for office space for the month'\n",
    "    },\n",
    "    {\n",
    "        'date': datetime(2023, 9, 9),\n",
    "        'description': 'Received cash for cleaning services rendered'\n",
    "    },\n",
    "    {\n",
    "        'date': datetime(2023, 9, 10),\n",
    "        'description': 'Paid Facebook ads for advertisement'\n",
    "    },\n",
    "    {\n",
    "        'date': datetime(2023, 9, 11),\n",
    "        'description': 'Paid insurance for the next six months'\n",
    "    },\n",
    "    {\n",
    "        'date': datetime(2023, 9, 12),\n",
    "        'description': 'Received advance payment for services to be performed next month'\n",
    "    },\n",
    "    {\n",
    "        'date': datetime(2023, 9, 13),\n",
    "        'description': 'Paid partial amount to CleanFast Trading on account'\n",
    "    },\n",
    "    {\n",
    "        'date': datetime(2023, 9, 14),\n",
    "        'description': 'Paid miscellaneous expenses'\n",
    "    },\n",
    "    {\n",
    "        'date': datetime(2023, 9, 15),\n",
    "        'description': 'Billed Aim High Laboratories for cleaning services rendered'\n",
    "    },\n",
    "    {\n",
    "        'date': datetime(2023, 9, 16),\n",
    "        'description': 'Paid employee salaries'\n",
    "    },\n",
    "    {\n",
    "        'date': datetime(2023, 9, 20),\n",
    "        'description': 'Received partial payment from Aim High Laboratories on account'\n",
    "    },\n",
    "    {\n",
    "        'date': datetime(2023, 9, 22),\n",
    "        'description': 'Paid partial payment on the note issued for motorcycle purchase'\n",
    "    },\n",
    "    {\n",
    "        'date': datetime(2023, 9, 25),\n",
    "        'description': 'Paid PLDT for telephone and internet expense'\n",
    "    },\n",
    "    {\n",
    "        'date': datetime(2023, 9, 28),\n",
    "        'description': 'Paid employee salary for the period'\n",
    "    },\n",
    "    {\n",
    "        'date': datetime(2023, 9, 29),\n",
    "        'description': 'Billed Precision Clinic for cleaning services rendered'\n",
    "    },\n",
    "    {\n",
    "        'date': datetime(2023, 9, 30),\n",
    "        'description': 'Owner withdrew cash from the business'\n",
    "    },\n",
    "]\n",
    "\n",
    "for entry_data in journal_entries_data:\n",
    "    GeneralJournal.create(**entry_data)"
   ]
  },
  {
   "cell_type": "markdown",
   "id": "6943e0c6-0998-40f9-9b46-c294a5e0f72e",
   "metadata": {},
   "source": [
    "# Sanity Checking General Journal\n",
    "Entries within the General Journal are then sanity-checked by checking the entries listed by the given query which are sorted by the id."
   ]
  },
  {
   "cell_type": "code",
   "execution_count": 92,
   "id": "e4a15941-bb8e-4bac-aea8-6c8027455fb2",
   "metadata": {},
   "outputs": [
    {
     "name": "stdout",
     "output_type": "stream",
     "text": [
      "ID: 1 Date: 2023-09-01 00:00:00 Description: Deposited cash and invested old deep cleaning equipment into the business\n",
      "ID: 2 Date: 2023-09-03 00:00:00 Description: Purchased cleaning supplies on account from CleanFast Trading\n",
      "ID: 3 Date: 2023-09-05 00:00:00 Description: Purchased cleaning equipment on account from A1 Merchandise\n",
      "ID: 4 Date: 2023-09-06 00:00:00 Description: Purchased motorcycle for business use, partly financed by issuing a note payable\n",
      "ID: 5 Date: 2023-09-07 00:00:00 Description: Paid rent for office space for the month\n",
      "ID: 6 Date: 2023-09-09 00:00:00 Description: Received cash for cleaning services rendered\n",
      "ID: 7 Date: 2023-09-10 00:00:00 Description: Paid Facebook ads for advertisement\n",
      "ID: 8 Date: 2023-09-11 00:00:00 Description: Paid insurance for the next six months\n",
      "ID: 9 Date: 2023-09-12 00:00:00 Description: Received advance payment for services to be performed next month\n",
      "ID: 10 Date: 2023-09-13 00:00:00 Description: Paid partial amount to CleanFast Trading on account\n",
      "ID: 11 Date: 2023-09-14 00:00:00 Description: Paid miscellaneous expenses\n",
      "ID: 12 Date: 2023-09-15 00:00:00 Description: Billed Aim High Laboratories for cleaning services rendered\n",
      "ID: 13 Date: 2023-09-16 00:00:00 Description: Paid employee salaries\n",
      "ID: 14 Date: 2023-09-20 00:00:00 Description: Received partial payment from Aim High Laboratories on account\n",
      "ID: 15 Date: 2023-09-22 00:00:00 Description: Paid partial payment on the note issued for motorcycle purchase\n",
      "ID: 16 Date: 2023-09-25 00:00:00 Description: Paid PLDT for telephone and internet expense\n",
      "ID: 17 Date: 2023-09-28 00:00:00 Description: Paid employee salary for the period\n",
      "ID: 18 Date: 2023-09-29 00:00:00 Description: Billed Precision Clinic for cleaning services rendered\n",
      "ID: 19 Date: 2023-09-30 00:00:00 Description: Owner withdrew cash from the business\n"
     ]
    }
   ],
   "source": [
    "query = GeneralJournal.select().order_by(GeneralJournal.id)\n",
    "for row in query:\n",
    "    print(f\"ID: {row.id} Date: {row.date} Description: {row.description}\")"
   ]
  },
  {
   "cell_type": "markdown",
   "id": "45cc361a-07f9-4234-8d70-062ef1b6fd1a",
   "metadata": {},
   "source": [
    "# Inserting Transactions\n",
    "The various transactions are then inserted. For compound entries, multiple `SimpleEntry`s were used."
   ]
  },
  {
   "cell_type": "markdown",
   "id": "d139fd02-bf7c-482e-ae71-c66041c8a201",
   "metadata": {},
   "source": [
    "## September 1\n",
    "Deposited ₱52,000 cash in bank account in the name of FDN Cleaning Service and invested\n",
    "an old deep cleaning equipment originally costing ₱35,000 but is now worth ₱10,000 at the\n",
    "time of investment"
   ]
  },
  {
   "cell_type": "code",
   "execution_count": null,
   "id": "b65fbec5-a158-4378-9ab3-d42f911cbfbe",
   "metadata": {},
   "outputs": [],
   "source": [
    "Simple"
   ]
  }
 ],
 "metadata": {
  "kernelspec": {
   "display_name": "Python 3 (ipykernel)",
   "language": "python",
   "name": "python3"
  },
  "language_info": {
   "codemirror_mode": {
    "name": "ipython",
    "version": 3
   },
   "file_extension": ".py",
   "mimetype": "text/x-python",
   "name": "python",
   "nbconvert_exporter": "python",
   "pygments_lexer": "ipython3",
   "version": "3.12.7"
  }
 },
 "nbformat": 4,
 "nbformat_minor": 5
}
